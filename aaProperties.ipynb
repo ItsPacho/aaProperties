{
 "cells": [
  {
   "cell_type": "code",
   "execution_count": 1,
   "metadata": {
    "ExecuteTime": {
     "end_time": "2019-08-19T10:14:54.029554Z",
     "start_time": "2019-08-19T10:14:49.898007Z"
    }
   },
   "outputs": [],
   "source": [
    "# Imports\n",
    "from collections import Counter\n",
    "import pandas as pd\n",
    "import csv\n",
    "import re\n",
    "\n",
    "# Pandas settings\n",
    "pd.set_option('display.max_columns', None)\n",
    "pd.set_option('display.max_rows', None)"
   ]
  },
  {
   "cell_type": "code",
   "execution_count": 2,
   "metadata": {
    "ExecuteTime": {
     "end_time": "2019-08-19T10:14:54.040800Z",
     "start_time": "2019-08-19T10:14:54.034793Z"
    }
   },
   "outputs": [],
   "source": [
    "# Change to an input system\n",
    "\n",
    "# Reading in sequence alignments ready to be analysed\n",
    "file = open(\"20190907_SpikeAlignment-N_Pseudomonas_aeruginosa_vgrg1_v6.ali\", \"r\")\n",
    "seq1 = file.read()\n",
    "\n",
    "file2 = open(\"20190606_SpikeAlignment-N_Klebsiella_pneumoniae_vgrg1_v2.ali\", \"r\")\n",
    "seq2 = file2.read()"
   ]
  },
  {
   "cell_type": "code",
   "execution_count": 3,
   "metadata": {
    "ExecuteTime": {
     "end_time": "2019-08-19T10:14:54.063981Z",
     "start_time": "2019-08-19T10:14:54.045739Z"
    },
    "scrolled": true
   },
   "outputs": [],
   "source": [
    "# Cleaning the sequences\n",
    "# 1: removing newlines\n",
    "# 2: extracting sequences by searching for strings \n",
    "# starting with a capital letter following by any number of capital letters and ending with a *\n",
    "# 3: removing * at the end of the sequences\n",
    "def seq_clean(seqs):\n",
    "    seqs = seqs.replace(\"\\n\", \"\")\n",
    "    seqs = re.findall(r'[A-Z-]+\\*', seqs)\n",
    "    return [seq.replace(\"*\", \"\") for seq in seqs]"
   ]
  },
  {
   "cell_type": "code",
   "execution_count": 4,
   "metadata": {
    "ExecuteTime": {
     "end_time": "2019-08-19T10:14:54.087768Z",
     "start_time": "2019-08-19T10:14:54.068810Z"
    }
   },
   "outputs": [],
   "source": [
    "# Splitting the sequence per amino acid.\n",
    "def split(seq):\n",
    "    return [aa for aa in seq]\n",
    "\n",
    "# Using the function split() to create a list of amino acids.\n",
    "def list_split(seqList):\n",
    "    return [split(seq) for seq in seqList]"
   ]
  },
  {
   "cell_type": "code",
   "execution_count": 5,
   "metadata": {
    "ExecuteTime": {
     "end_time": "2019-08-19T10:14:54.190039Z",
     "start_time": "2019-08-19T10:14:54.093768Z"
    }
   },
   "outputs": [],
   "source": [
    "# Frequencies of amino acids per column. <- Not used for anything..\n",
    "def freq(seqDF):\n",
    "    return [seqDF[seq].value_counts() for seq in range(len(seqDF.columns))]\n",
    "\n",
    "# Most frequent amino acid in the column by a percentage.\n",
    "def top(seqDF):\n",
    "    topList = []\n",
    "    for i in range(len(seqDF.columns)):\n",
    "        mostCommon = Counter(seqDF[i]).most_common()\n",
    "        if (mostCommon[0][1]/len(seqDF.index)) >= 0.65:\n",
    "            topList.append(mostCommon[0][0])\n",
    "        else:\n",
    "            topList.append(\"X\")\n",
    "    return topList\n",
    "\n",
    "# Using the function top() and then converting the dataframe to a string.\n",
    "def analysis(seqDF):\n",
    "    string = \"\".join(top(seqDF))\n",
    "    print(f\"{len(string)} amino acids analyzed.\")\n",
    "    return string\n",
    "\n",
    "def AAproperties(analyzedSeq):\n",
    "    aaprop = \"\"\n",
    "    for aa in analyzedSeq:\n",
    "        if aa in \"-\":\n",
    "            aaprop += \"g\" #Gap\n",
    "            #print(f'Gapped : {count+1} -> {aa}')\n",
    "        elif aa in {\"G\", \"A\", \"S\", \"T\"}:\n",
    "            aaprop += \"s\" #Small\n",
    "\n",
    "        elif aa in {\"V\", \"L\", \"I\", \"P\", \"M\", \"F\"}:\n",
    "            aaprop += \"h\" #Hydrophobc\n",
    "\n",
    "        elif aa in {\"C\", \"H\", \"N\", \"Q\", \"Y\"}:\n",
    "            aaprop += \"p\" #Polar\n",
    "\n",
    "        elif aa in {\"D\", \"E\"}:\n",
    "            aaprop += \"N\" #Negatively charged\n",
    "\n",
    "        elif aa in {\"K\", \"R\"}:\n",
    "            aaprop += \"P\" #Positively charged\n",
    "\n",
    "        elif aa in \"W\":\n",
    "            aaprop += \"L\" #Largest\n",
    "            #print(f'Inside : {count+1} -> {aa}')\n",
    "\n",
    "        else:\n",
    "            aaprop += \"x\" #Anything\n",
    "            #print(f'Outside: {count+1} -> {aa}')\n",
    "    print(f\"{len(aaprop)} amino acids converted to amino acid properties.\")\n",
    "    return aaprop"
   ]
  },
  {
   "cell_type": "code",
   "execution_count": 6,
   "metadata": {
    "ExecuteTime": {
     "end_time": "2019-08-19T10:14:54.213487Z",
     "start_time": "2019-08-19T10:14:54.192740Z"
    }
   },
   "outputs": [],
   "source": [
    "# Comparing two different sequences to each other.\n",
    "def seq_comparison(seq1, seq2):\n",
    "    list1 = [line for line in seq1.splitlines()]\n",
    "    list2 = [line for line in seq2.splitlines()]\n",
    "\n",
    "    if list1 > list2:\n",
    "        for i in range(len(list1)):\n",
    "            if i >= len(list2):\n",
    "                break\n",
    "            else:\n",
    "                print(f'P VgrG1 -> {list1[i]}\\nK VgrG1 -> {list2[i]}\\n')\n",
    "    elif list2 > list1:\n",
    "        for i in range(len(list2)):\n",
    "            if i >= len(list1):\n",
    "                break\n",
    "            else:\n",
    "                print(f'P VgrG1 -> {list1[i]}\\nK VgrG1 -> {list2[i]}\\n')"
   ]
  },
  {
   "cell_type": "code",
   "execution_count": 7,
   "metadata": {
    "ExecuteTime": {
     "end_time": "2019-08-19T10:14:54.235107Z",
     "start_time": "2019-08-19T10:14:54.216709Z"
    }
   },
   "outputs": [],
   "source": [
    "# Inserting a new line into the string\n",
    "def insertNewlines(text, lineLength):\n",
    "    if len(text) <= lineLength:\n",
    "        return text\n",
    "    else:\n",
    "        return text[:lineLength] + '\\n' + insertNewlines(text[lineLength:], lineLength)"
   ]
  },
  {
   "cell_type": "code",
   "execution_count": 8,
   "metadata": {
    "ExecuteTime": {
     "end_time": "2019-08-19T10:14:54.269207Z",
     "start_time": "2019-08-19T10:14:54.240985Z"
    }
   },
   "outputs": [],
   "source": [
    "# Comparing two lists to each other\n",
    "def listComparison(seq1, seq2):\n",
    "    list1 = [line for line in seq1.splitlines()]\n",
    "    list2 = [line for line in seq2.splitlines()]\n",
    "    \n",
    "    for i in range(len(list1)):\n",
    "        print(f'{list1[i]}\\n{list2[i]}\\n')"
   ]
  },
  {
   "cell_type": "code",
   "execution_count": 9,
   "metadata": {
    "ExecuteTime": {
     "end_time": "2019-08-19T10:14:54.292988Z",
     "start_time": "2019-08-19T10:14:54.273509Z"
    }
   },
   "outputs": [],
   "source": [
    "cleaned_seq1 = seq_clean(seq1)\n",
    "cleaned_seq2 = seq_clean(seq2)"
   ]
  },
  {
   "cell_type": "code",
   "execution_count": 10,
   "metadata": {
    "ExecuteTime": {
     "end_time": "2019-08-19T10:14:54.335407Z",
     "start_time": "2019-08-19T10:14:54.296641Z"
    }
   },
   "outputs": [],
   "source": [
    "seq1_list = list_split(cleaned_seq1)\n",
    "seq2_list = list_split(cleaned_seq2)"
   ]
  },
  {
   "cell_type": "code",
   "execution_count": 11,
   "metadata": {
    "ExecuteTime": {
     "end_time": "2019-08-19T10:14:54.472784Z",
     "start_time": "2019-08-19T10:14:54.338886Z"
    }
   },
   "outputs": [],
   "source": [
    "seq1_df = pd.DataFrame(seq1_list)\n",
    "seq2_df = pd.DataFrame(seq2_list)"
   ]
  },
  {
   "cell_type": "code",
   "execution_count": 12,
   "metadata": {
    "ExecuteTime": {
     "end_time": "2019-08-19T10:14:54.506122Z",
     "start_time": "2019-08-19T10:14:54.476427Z"
    }
   },
   "outputs": [
    {
     "name": "stdout",
     "output_type": "stream",
     "text": [
      "163 amino acids analyzed.\n"
     ]
    }
   ],
   "source": [
    "analysed_seq1 = analysis(seq1_df)"
   ]
  },
  {
   "cell_type": "code",
   "execution_count": 13,
   "metadata": {
    "ExecuteTime": {
     "end_time": "2019-08-19T10:14:54.566572Z",
     "start_time": "2019-08-19T10:14:54.508828Z"
    }
   },
   "outputs": [
    {
     "name": "stdout",
     "output_type": "stream",
     "text": [
      "371 amino acids analyzed.\n"
     ]
    }
   ],
   "source": [
    "analysed_seq2 = analysis(seq2_df)"
   ]
  },
  {
   "cell_type": "code",
   "execution_count": 14,
   "metadata": {
    "ExecuteTime": {
     "end_time": "2019-08-19T10:14:54.577240Z",
     "start_time": "2019-08-19T10:14:54.570382Z"
    }
   },
   "outputs": [
    {
     "name": "stdout",
     "output_type": "stream",
     "text": [
      "163 amino acids converted to amino acid properties.\n",
      "371 amino acids converted to amino acid properties.\n"
     ]
    }
   ],
   "source": [
    "seq1_aaprop = AAproperties(analysed_seq1)\n",
    "seq2_aaprop = AAproperties(analysed_seq2)"
   ]
  },
  {
   "cell_type": "code",
   "execution_count": 15,
   "metadata": {
    "ExecuteTime": {
     "end_time": "2019-08-19T10:14:54.598538Z",
     "start_time": "2019-08-19T10:14:54.581069Z"
    }
   },
   "outputs": [],
   "source": [
    "seq1_aaprop_nl = insertNewlines(seq1_aaprop, 60)\n",
    "seq2_aaprop_nl = insertNewlines(seq2_aaprop, 60)"
   ]
  },
  {
   "cell_type": "code",
   "execution_count": 16,
   "metadata": {
    "ExecuteTime": {
     "end_time": "2019-08-19T10:14:54.620002Z",
     "start_time": "2019-08-19T10:14:54.602207Z"
    },
    "scrolled": false
   },
   "outputs": [
    {
     "name": "stdout",
     "output_type": "stream",
     "text": [
      "P VgrG1 -> pNhPhNNPPsxNphphpsNPppNhhhNxNNspshspNPxPshspxNsxshsxxPxPxhxx\n",
      "K VgrG1 -> pPhPhNNNPsPNphPhssNpssPsphphsphhNxxPpxPsNshNhPsNxLsshPsxPshh\n",
      "\n",
      "P VgrG1 -> xNxhxhsxxPxNsxsxxpxhNxsxxxPhhpsxsxhNhpsssxhpxxsxxxxxpsssxxxx\n",
      "K VgrG1 -> hssNxpxPspsphxNhxssxxxhxxsxxxxxxhsxxsxxsxsxxsNhxxpxxhhxxxhxx\n",
      "\n",
      "P VgrG1 -> xsssxhxhpxsxxxxxxxxspsxPxxhNsxhPsxhhxxxxxgg\n",
      "K VgrG1 -> hxxsxhhhsshxsxxxxsxxxxphxssxxxxxgxssxpxNxshxPxxxxxxsxxxshhxP\n",
      "\n"
     ]
    }
   ],
   "source": [
    "# P = Pseudomonas aeruginosa, K = Klebsiella pneumoniae.\n",
    "seq_comparison(seq1_aaprop_nl, seq2_aaprop_nl)"
   ]
  },
  {
   "cell_type": "code",
   "execution_count": 17,
   "metadata": {
    "ExecuteTime": {
     "end_time": "2019-08-19T10:14:54.640549Z",
     "start_time": "2019-08-19T10:14:54.622744Z"
    }
   },
   "outputs": [],
   "source": [
    "seq1_top_nl = insertNewlines(analysed_seq1, 60)\n",
    "seq2_top_nl = insertNewlines(analysed_seq2, 60)"
   ]
  },
  {
   "cell_type": "code",
   "execution_count": 18,
   "metadata": {
    "ExecuteTime": {
     "end_time": "2019-08-19T10:14:54.663401Z",
     "start_time": "2019-08-19T10:14:54.643048Z"
    }
   },
   "outputs": [
    {
     "name": "stdout",
     "output_type": "stream",
     "text": [
      "NEIRMEDKKGXEQLYIHAERNQDIVVEXDESHSVGHDRXKSIGHXETXTIGXXRXRXVXX\n",
      "pNhPhNNPPsxNphphpsNPppNhhhNxNNspshspNPxPshspxNsxshsxxPxPxhxx\n",
      "\n",
      "XDXLXVGXXKXDSXSXXYXIEXGXXXRLVCGXSXLELNASGXINXXGXXXXXYASGXXXX\n",
      "xNxhxhsxxPxNsxsxxpxhNxsxxxPhhpsxsxhNhpsssxhpxxsxxxxxpsssxxxx\n",
      "\n",
      "XTGGXLXLNXGXXXXXXXXGQGXKXXIDAXVKAXFPXXXXX--\n",
      "xsssxhxhpxsxxxxxxxxspsxPxxhNsxhPsxhhxxxxxgg\n",
      "\n"
     ]
    }
   ],
   "source": [
    "# Comparing amino acid sequence to amino acid properties.\n",
    "# Pseudomonas aeruginosa VgrG1\n",
    "listComparison(seq1_top_nl, seq1_aaprop_nl)"
   ]
  },
  {
   "cell_type": "code",
   "execution_count": 19,
   "metadata": {
    "ExecuteTime": {
     "end_time": "2019-08-19T10:14:54.686934Z",
     "start_time": "2019-08-19T10:14:54.666119Z"
    }
   },
   "outputs": [
    {
     "name": "stdout",
     "output_type": "stream",
     "text": [
      "NKIRLDDERGKEHIKVSTEYGGKSQLNLGHLVDXXKQXRGEGFELRTDXWGAIRAXKGIF\n",
      "pPhPhNNNPsPNphPhssNpssPsphphsphhNxxPpxPsNshNhPsNxLsshPsxPshh\n",
      "\n",
      "ISADXQXKAQGQVXEMXAAXXXLXXAXXXXXXLSXXAXXAXAXXADLXXQXXLLXXXLXX\n",
      "hssNxpxPspsphxNhxssxxxhxxsxxxxxxhsxxsxxsxsxxsNhxxpxxhhxxxhxx\n",
      "\n",
      "LXXAXILLSAPXGXXXXSXXXXQLXAGXXXXX-XAGXNXDXSVXKXXXXXXGXXXSVFXR\n",
      "hxxsxhhhsshxsxxxxsxxxxphxssxxxxxgxssxpxNxshxPxxxxxxsxxxshhxP\n",
      "\n",
      "KXGIKLFANXGXVXVQAQNDXMXLXAXKXIXIXSTEXXIXIXAKKXIXLXXGGXYIRLXX\n",
      "PxshPhhspxsxhxhpsppNxhxhxsxPxhxhxssNxxhxhxsPPxhxhxxssxphPhxx\n",
      "\n",
      "XXIEXXXPGXXXXXXXXXXXXXXAXXXXXXXXX----PXXXXGXXXXXXXXXXXXXXPXX\n",
      "xxhNxxxhsxxxxxxxxxxxxxxsxxxxxxxxxgggghxxxxsxxxxxxxxxxxxxxhxx\n",
      "\n",
      "XXXYXXTXXXGXXXXGXXDXXGXXXXXNXXXXXXXXXXXLXXXXXXXXXXXXXX------\n",
      "xxxpxxsxxxsxxxxsxxNxxsxxxxxpxxxxxxxxxxxhxxxxxxxxxxxxxxgggggg\n",
      "\n",
      "-----------\n",
      "ggggggggggg\n",
      "\n"
     ]
    }
   ],
   "source": [
    "# Comparing amino acid sequence to amino acid properties.\n",
    "# Klebsiella pneumoniae VgrG1\n",
    "listComparison(seq2_top_nl, seq2_aaprop_nl)"
   ]
  },
  {
   "cell_type": "code",
   "execution_count": 20,
   "metadata": {
    "ExecuteTime": {
     "end_time": "2019-08-19T10:14:54.710467Z",
     "start_time": "2019-08-19T10:14:54.689292Z"
    }
   },
   "outputs": [],
   "source": [
    "# Writing the desired sequence as an excel file.\n",
    "list_write = []\n",
    "list_write.append(analysed_seq1)\n",
    "list_write.append(seq1_aaprop)\n",
    "\n",
    "with open(\"test_output.csv\",'w') as resultFile:\n",
    "    wr = csv.writer(resultFile, dialect='excel')\n",
    "    wr.writerow(list_write)"
   ]
  },
  {
   "cell_type": "code",
   "execution_count": 21,
   "metadata": {
    "ExecuteTime": {
     "end_time": "2019-08-19T10:14:54.730224Z",
     "start_time": "2019-08-19T10:14:54.713219Z"
    }
   },
   "outputs": [
    {
     "name": "stdout",
     "output_type": "stream",
     "text": [
      "['NEIRMEDKKGXEQLYIHAERNQDIVVEXDESHSVGHDRXKSIGHXETXTIGXXRXRXVXXXDXLXVGXXKXDSXSXXYXIEXGXXXRLVCGXSXLELNASGXINXXGXXXXXYASGXXXXXTGGXLXLNXGXXXXXXXXGQGXKXXIDAXVKAXFPXXXXX--', 'pNhPhNNPPsxNphphpsNPppNhhhNxNNspshspNPxPshspxNsxshsxxPxPxhxxxNxhxhsxxPxNsxsxxpxhNxsxxxPhhpsxsxhNhpsssxhpxxsxxxxxpsssxxxxxsssxhxhpxsxxxxxxxxspsxPxxhNsxhPsxhhxxxxxgg']\n"
     ]
    }
   ],
   "source": [
    "print(list_write)"
   ]
  },
  {
   "cell_type": "code",
   "execution_count": null,
   "metadata": {},
   "outputs": [],
   "source": []
  }
 ],
 "metadata": {
  "kernelspec": {
   "display_name": "Python 3",
   "language": "python",
   "name": "python3"
  },
  "language_info": {
   "codemirror_mode": {
    "name": "ipython",
    "version": 3
   },
   "file_extension": ".py",
   "mimetype": "text/x-python",
   "name": "python",
   "nbconvert_exporter": "python",
   "pygments_lexer": "ipython3",
   "version": "3.7.5"
  },
  "notify_time": "5"
 },
 "nbformat": 4,
 "nbformat_minor": 2
}
